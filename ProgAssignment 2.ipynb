{
 "cells": [
  {
   "cell_type": "code",
   "execution_count": 546,
   "metadata": {},
   "outputs": [],
   "source": [
    "import numpy as np\n",
    "import pandas as pd\n",
    "from sklearn.model_selection import train_test_split\n",
    "from sklearn.linear_model import LogisticRegression\n",
    "from sklearn.datasets import load_wine\n",
    "from sklearn.metrics import f1_score, log_loss, accuracy_score\n",
    "from random import sample \n",
    "from sklearn.preprocessing import  StandardScaler, MinMaxScaler\n",
    "import matplotlib.pyplot as plt\n",
    "import seaborn as sns"
   ]
  },
  {
   "cell_type": "markdown",
   "metadata": {},
   "source": [
    "### Data Preprocessing"
   ]
  },
  {
   "cell_type": "code",
   "execution_count": 494,
   "metadata": {},
   "outputs": [
    {
     "name": "stderr",
     "output_type": "stream",
     "text": [
      "/Users/chenxuanyu212/anaconda3/lib/python3.7/site-packages/ipykernel_launcher.py:10: SettingWithCopyWarning: \n",
      "A value is trying to be set on a copy of a slice from a DataFrame\n",
      "\n",
      "See the caveats in the documentation: https://pandas.pydata.org/pandas-docs/stable/user_guide/indexing.html#returning-a-view-versus-a-copy\n",
      "  # Remove the CWD from sys.path while we load stuff.\n"
     ]
    }
   ],
   "source": [
    "from sklearn.datasets import load_wine\n",
    "from sklearn import preprocessing\n",
    "import pandas as pd\n",
    "\n",
    "raw_data = load_wine()\n",
    "data = pd.DataFrame(data = raw_data['data'], columns = raw_data['feature_names'])\n",
    "data['class'] = raw_data['target']\n",
    "data = data.loc[data['class'] != 2,:]\n",
    "data['class'][data['class'] == 1] = -1\n",
    "data['class'][data['class'] == 0] = 1\n",
    "y = data[['class']]\n",
    "data.insert(loc=0, column='b', value=1)\n",
    "data1 = data.copy()\n",
    "data2 = data.copy()\n",
    "\n",
    "min_max_scaler = preprocessing.MinMaxScaler()\n",
    "data1.iloc[:,1:] = min_max_scaler.fit_transform(data1.iloc[:,1:].values)\n",
    "\n",
    "cols = list(data2.columns)\n",
    "for i in cols[1:-1]:\n",
    "    scaler_train = StandardScaler()\n",
    "    sf_train = scaler_train.fit(data2[[i]])\n",
    "    data2[i] = sf_train.transform(data2[[i]])\n",
    "\n",
    "train1 = data1.iloc[:,:-1]\n",
    "train2 = data2.iloc[:,:-1]"
   ]
  },
  {
   "cell_type": "markdown",
   "metadata": {},
   "source": [
    "### Logistic regression with sklearn"
   ]
  },
  {
   "cell_type": "code",
   "execution_count": 502,
   "metadata": {},
   "outputs": [
    {
     "name": "stdout",
     "output_type": "stream",
     "text": [
      "0.02101796143246044 0.0022908920038074683\n"
     ]
    }
   ],
   "source": [
    "clf = LogisticRegression(random_state=0, C=50).fit(train1,y)\n",
    "y_proba = clf.predict_proba(train1)\n",
    "loss_star1 = log_loss(y, y_proba)\n",
    "\n",
    "clf = LogisticRegression(random_state=0, C=50).fit(train2,y)\n",
    "y_proba = clf.predict_proba(train2)\n",
    "loss_star2 = log_loss(y, y_proba)\n",
    "print(loss_star1,loss_star2)"
   ]
  },
  {
   "cell_type": "markdown",
   "metadata": {},
   "source": [
    "### Coordinate Descent"
   ]
  },
  {
   "cell_type": "code",
   "execution_count": 503,
   "metadata": {},
   "outputs": [],
   "source": [
    "def loss_logistic(w,df_x,y):\n",
    "    '''\n",
    "        w: vector of w_hat([b,w1,w2,...,wd])\n",
    "        df_x: dataframe of X_hat(insert one col of 1 at the index 0 of X_train)\n",
    "        y: vector of labels\n",
    "        return: the value of loss function of logistic regression\n",
    "    '''\n",
    "    result = 0\n",
    "    for i in range(0,len(df_x)):\n",
    "        x = df_x.loc[i,:].values\n",
    "        temp = np.log(1 + np.exp(-y[i] * x.dot(w)))\n",
    "        result += temp\n",
    "    return result\n",
    "\n",
    "def Derivative_loss_logistic_wrt_wk(w,df_x,y,index):\n",
    "    '''\n",
    "        w: vector of w_hat([b,w1,w2,...,wd])\n",
    "        df_x: dataframe of X_hat(insert one col of 1 at the index 0 of X_train)\n",
    "        y: vector of labels\n",
    "        index: the index of chosen coordinate\n",
    "        return: the value of the first derivative of loss function of logistic regression\n",
    "    '''\n",
    "    result = 0\n",
    "    for i in range(0,len(df_x)):\n",
    "        x = df_x.loc[i,:].values\n",
    "        temp = (-y[i] * x[index] * np.exp(-y[i] * x.dot(w)))/(1 + np.exp(-y[i] * x.dot(w)))\n",
    "        result += temp\n",
    "    return result\n",
    "        \n",
    "        "
   ]
  },
  {
   "cell_type": "markdown",
   "metadata": {},
   "source": [
    "#### if choose index randomly"
   ]
  },
  {
   "cell_type": "code",
   "execution_count": 539,
   "metadata": {},
   "outputs": [],
   "source": [
    "def coordinate_descent(x_hat,max_iter,alpha,threshold):\n",
    "    # hyper-parameters\n",
    "    max_iter = max_iter\n",
    "    alpha = alpha # step size\n",
    "    threshold = threshold\n",
    "\n",
    "    # initialize\n",
    "    t = 0\n",
    "    w = np.random.uniform(-1,1,X_hat.shape[1])\n",
    "    list_optimal_value = []\n",
    "    #w = np.array([0]*14)\n",
    "    optimize = False\n",
    "    loss = loss_logistic(w,X_hat,y_hat)\n",
    "\n",
    "    while (optimize == False) & (t < max_iter):\n",
    "        list_index = list(range(0,X_hat.shape[1]))\n",
    "        chosen_index = []\n",
    "        # choose index randomly\n",
    "        # To Do: choose index which is argmax f'(wt)\n",
    "        index = sample(list(range(0,X_hat.shape[1])),1)[0]\n",
    "        chosen_index.append(index)\n",
    "        # update w at the index coordinate\n",
    "        temp_w = w.copy()\n",
    "        temp_w[index] = w[index] - alpha * Derivative_loss_logistic_wrt_wk(w,X_hat,y_hat,index)\n",
    "        # calculate the newest loss\n",
    "        temp_loss = loss_logistic(temp_w,X_hat,y_hat)\n",
    "\n",
    "        # check weather termination test satisfies\n",
    "        while (loss - temp_loss) <= threshold: # which means the we need to change to another coordinate\n",
    "            #print('jinlaile')\n",
    "            left = [x for x in list_index if x not in chosen_index ]\n",
    "            index = sample(left,1)[0]\n",
    "            chosen_index.append(index)\n",
    "            # update w at the index coordinate\n",
    "            temp_w = w.copy()\n",
    "            temp_w[index] = w[index] - alpha * Derivative_loss_logistic_wrt_wk(w,X_hat,y_hat,index)\n",
    "            # calculate the newest loss\n",
    "            temp_loss = loss_logistic(temp_w,X_hat,y_hat)\n",
    "\n",
    "            if len(chosen_index) == len(w):\n",
    "                optimize = True\n",
    "                break\n",
    "\n",
    "\n",
    "        loss = temp_loss\n",
    "        list_optimal_value.append(loss)\n",
    "        w = temp_w.copy()\n",
    "        t += 1\n",
    "\n",
    "    print(t)  \n",
    "    print(loss)\n",
    "    return loss,list_optimal_value"
   ]
  },
  {
   "cell_type": "code",
   "execution_count": 542,
   "metadata": {},
   "outputs": [
    {
     "name": "stdout",
     "output_type": "stream",
     "text": [
      "9000\n",
      "0.03864519720399256\n"
     ]
    }
   ],
   "source": [
    "optimal_loss, list_loss = coordinate_descent(x_hat = train1,max_iter = 9000, alpha = 0.1, threshold = 1e-6)"
   ]
  },
  {
   "cell_type": "code",
   "execution_count": 582,
   "metadata": {},
   "outputs": [
    {
     "data": {
      "image/png": "[encoded data removed]",
      "text/plain": [
       "<Figure size 842.4x595.44 with 1 Axes>"
      ]
     },
     "metadata": {},
     "output_type": "display_data"
    }
   ],
   "source": [
    "sns.set(rc={'figure.figsize':(11.7,8.27)})\n",
    "fig = sns.lineplot(x=list(range(1,101)),y=list_loss[:100],color='orange')\n",
    "fig.axhline(0.02101796143246044, ls='--')\n",
    "fig.text(-10,1.3, \"0.021\")\n",
    "fig.set(xlabel='iterations',ylabel='log_loss of logistic regression')\n",
    "plt.show()"
   ]
  },
  {
   "cell_type": "code",
   "execution_count": 594,
   "metadata": {},
   "outputs": [
    {
     "data": {
      "image/png": "[encoded data removed]",
      "text/plain": [
       "<Figure size 842.4x595.44 with 1 Axes>"
      ]
     },
     "metadata": {},
     "output_type": "display_data"
    }
   ],
   "source": [
    "sns.set(rc={'figure.figsize':(11.7,8.27)})\n",
    "fig = sns.lineplot(x=list(range(8500,9000)),y=list_loss[8500:],color='orange')\n",
    "fig.axhline(0.02101796143246044, ls='--')\n",
    "fig.axhline(0.03864519720399256, ls='--')\n",
    "fig.text(8437,0.0386, \"0.0386\")\n",
    "fig.text(8437,0.021, \"0.0210\")\n",
    "fig.set(xlabel='iterations',ylabel='log_loss of logistic regression')\n",
    "plt.show()"
   ]
  },
  {
   "cell_type": "markdown",
   "metadata": {},
   "source": [
    "### choose index choose index which is argmax f'(wt)"
   ]
  },
  {
   "cell_type": "code",
   "execution_count": 530,
   "metadata": {},
   "outputs": [],
   "source": [
    "def coordinate_descent2(x_hat,max_iter,alpha,threshold):\n",
    "    # hyper-parameters\n",
    "    max_iter = max_iter\n",
    "    alpha = alpha # step size\n",
    "    threshold = threshold\n",
    "\n",
    "    # initialize\n",
    "    t = 0\n",
    "    w = np.random.uniform(-1,1,X_hat.shape[1])\n",
    "    optimize = False\n",
    "    loss = loss_logistic(w,X_hat,y_hat)\n",
    "\n",
    "    while (optimize == False) & (t < max_iter):\n",
    "        list_index = list(range(0,X_hat.shape[1]))\n",
    "        chosen_index = []\n",
    "        # To Do: choose index which is argmax f'(wt)\n",
    "        derivative= []\n",
    "        for i in list_index:\n",
    "            derivative.append(abs(Derivative_loss_logistic_wrt_wk(w,X_hat,y_hat,i)))\n",
    "        index = derivative.index(max(derivative))\n",
    "        \n",
    "        chosen_index.append(index)\n",
    "        # update w at the index coordinate\n",
    "        temp_w = w.copy()\n",
    "        temp_w[index] = w[index] - alpha * Derivative_loss_logistic_wrt_wk(w,X_hat,y_hat,index)\n",
    "        # calculate the newest loss\n",
    "        temp_loss = loss_logistic(temp_w,X_hat,y_hat)\n",
    "\n",
    "        # check weather termination test satisfies\n",
    "        while (loss - temp_loss) <= threshold: # which means the we need to change to another coordinate\n",
    "            #print('jinlaile')\n",
    "            left = [x for x in list_index if x not in chosen_index]\n",
    "            derivative= []\n",
    "            for i in left:\n",
    "                derivative.append(abs(Derivative_loss_logistic_wrt_wk(w,X_hat,y_hat,i)))\n",
    "            index = derivative.index(max(derivative))\n",
    "            chosen_index.append(index)\n",
    "            # update w at the index coordinate\n",
    "            temp_w = w.copy()\n",
    "            temp_w[index] = w[index] - alpha * Derivative_loss_logistic_wrt_wk(w,X_hat,y_hat,index)\n",
    "            # calculate the newest loss\n",
    "            temp_loss = loss_logistic(temp_w,X_hat,y_hat)\n",
    "\n",
    "            if len(chosen_index) == len(w):\n",
    "                optimize = True\n",
    "                break\n",
    "\n",
    "\n",
    "        loss = temp_loss\n",
    "        w = temp_w.copy()\n",
    "        t += 1\n",
    "\n",
    "    print(t)  \n",
    "    print(loss)\n",
    "    return loss"
   ]
  },
  {
   "cell_type": "code",
   "execution_count": 531,
   "metadata": {},
   "outputs": [
    {
     "name": "stdout",
     "output_type": "stream",
     "text": [
      "1381\n",
      "0.15494772265430196\n"
     ]
    },
    {
     "data": {
      "text/plain": [
       "0.15494772265430196"
      ]
     },
     "execution_count": 531,
     "metadata": {},
     "output_type": "execute_result"
    }
   ],
   "source": [
    "coordinate_descent2(x_hat = train1,max_iter = 1500, alpha = 0.1, threshold = 0.0001)"
   ]
  },
  {
   "cell_type": "code",
   "execution_count": null,
   "metadata": {},
   "outputs": [],
   "source": []
  },
  {
   "cell_type": "code",
   "execution_count": null,
   "metadata": {},
   "outputs": [],
   "source": []
  },
  {
   "cell_type": "code",
   "execution_count": 407,
   "metadata": {},
   "outputs": [
    {
     "data": {
      "text/plain": [
       "404"
      ]
     },
     "execution_count": 407,
     "metadata": {},
     "output_type": "execute_result"
    }
   ],
   "source": [
    "t"
   ]
  },
  {
   "cell_type": "code",
   "execution_count": null,
   "metadata": {},
   "outputs": [],
   "source": []
  }
 ],
 "metadata": {
  "kernelspec": {
   "display_name": "Python 3",
   "language": "python",
   "name": "python3"
  },
  "language_info": {
   "codemirror_mode": {
    "name": "ipython",
    "version": 3
   },
   "file_extension": ".py",
   "mimetype": "text/x-python",
   "name": "python",
   "nbconvert_exporter": "python",
   "pygments_lexer": "ipython3",
   "version": "3.7.2"
  }
 },
 "nbformat": 4,
 "nbformat_minor": 2
}
